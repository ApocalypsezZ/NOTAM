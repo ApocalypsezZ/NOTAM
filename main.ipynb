{
 "cells": [
  {
   "cell_type": "code",
   "execution_count": 1,
   "outputs": [
    {
     "name": "stdout",
     "output_type": "stream",
     "text": [
      "/media/auto203/SSD2/JHY/python/enhanced-subject-verb-object-extraction-master\n"
     ]
    },
    {
     "name": "stderr",
     "output_type": "stream",
     "text": [
      "/media/auto203/SSD2/anaconda3/envs/ml/lib/python3.8/site-packages/requests/__init__.py:102: RequestsDependencyWarning: urllib3 (1.26.9) or chardet (5.0.0)/charset_normalizer (2.0.12) doesn't match a supported version!\n",
      "  warnings.warn(\"urllib3 ({}) or chardet ({})/charset_normalizer ({}) doesn't match a supported \"\n"
     ]
    }
   ],
   "source": [
    "%cd /media/auto203/SSD2/JHY/python/enhanced-subject-verb-object-extraction-master\n",
    "\n",
    "\n",
    "from typing import Tuple\n",
    "from typing import List\n",
    "from deepmultilingualpunctuation import PunctuationModel\n",
    "from transformers import pipeline\n",
    "import nltk\n",
    "from Exiang import chinese_or_not\n",
    "from Exiang import chinese_svo\n",
    "from lijinyuan import sentence_parse\n",
    "import notam\n",
    "import re\n",
    "import warnings\n",
    "from openpyxl import Workbook\n",
    "from openpyxl.utils.dataframe import dataframe_to_rows\n",
    "import pandas as pd\n",
    "\n",
    "\n",
    "S = \"\"\"(A1912/15 NOTAMN\n",
    "Q) LOVV/QWPLW/IV/BO/W/000/130/4809N01610E001\n",
    "A) LOVV B) 1509261100 C) 1509261230\n",
    "E) PJE WILL TAKE PLACE AT AREA LAAB IN WALDE\n",
    "F) GND G) FL130)\"\"\"\n",
    "\n",
    "\n",
    "warnings.filterwarnings(\"ignore\")\n",
    "MODEL = PunctuationModel()\n",
    "\n",
    "\n",
    "# 解析 TODO: 去除非E项内容\n",
    "def notam_parse_single(e_option_noisy: str) -> str:\n",
    "    # 去除E):\n",
    "    e_opition = e_option_noisy.replace('E)：', '')\n",
    "    # 处理换行符\n",
    "    e_opition = e_opition.rstrip('\\n')\n",
    "    e_opition = e_opition.replace('\\n', '. ')\n",
    "    # 去除括号里内容\n",
    "    e_opition = re.sub('\\(.*?\\)', '', e_opition)\n",
    "    # RWY和数字分开\n",
    "    e_opition = re.sub(r\"(Runway|RUNWAY|RWY|TWY)([0-9/]*)\", r\"\\1 \\2\", e_opition)\n",
    "    # 空格合并\n",
    "    e_opition = ' '.join(e_opition.split())\n",
    "    return e_opition\n",
    "\n",
    "# 解码\n",
    "def notam_decode(e_option: str) -> str:\n",
    "    # 整理调包格式\n",
    "    s_new = S.split(\"E)\")[0] + \"E) \" + e_option + \"\\nF)\" + S.split(\"E)\")[1].split(\"F)\")[1]\n",
    "    res = notam.Notam.from_str(s_new)\n",
    "    e_option_text = res.decoded().split(\"E)\")[1].split(\"F)\")[0].rstrip(\"\\n\").lstrip(' ').replace('\\n', ' ')\n",
    "    # 字典补充\n",
    "    e_option_text = e_option_text.replace(\"MTOW\", \"Maximum takeoff weight\")\n",
    "    e_option_text = e_option_text.replace(\"ILS\", \"Instrument landing system\")\n",
    "    e_option_text = e_option_text.replace(\"IFR\", \"Instrument flight rules\")\n",
    "    # 原始符号处理\n",
    "    e_option_text = e_option_text.replace(',', \", \")\n",
    "    e_option_text = e_option_text.replace(':', \": \")\n",
    "    e_option_text = ' '.join(e_option_text.split())\n",
    "    return e_option_text\n",
    "\n",
    "def bad_case_or_not(e_option_text: str) -> bool:\n",
    "    return False\n",
    "\n",
    "def bad_case_svo(e_option_text: str) -> List[List[str]]:\n",
    "    return [[]]\n",
    "\n",
    "# 标点\n",
    "def punctuation(e_option_text: str) -> str:\n",
    "    e_option_text_punc = MODEL.restore_punctuation(e_option_text)\n",
    "    # 去掉RWY和数字之间的句号\n",
    "    e_option_text_punc = re.sub(r\"(Runway|RUNWAY|RWY|TWY).?\", r\"\\1 \", e_option_text_punc)\n",
    "    # 去掉数字和常见非开头词之间的句号\n",
    "    e_option_text_punc = re.sub(r\"([0-9LR/]+)[:\\. ]*(?=Unserviceable|CLSD|Closed|CLS|closed)\", r\"\\1 \", e_option_text_punc)\n",
    "    # 合并空格\n",
    "    e_option_text_punc = ' '.join(e_option_text_punc.split())\n",
    "    # 去掉管理员批准中间的句号\n",
    "    e_option_text_punc = re.sub(r\"(Aerodrome)[\\. ]*(OPERATOR (?:APPROVAL|Approved) ONLY)\", r\"\\1 \\2\", e_option_text_punc)\n",
    "    # 去掉通知时间中间的句号\n",
    "    e_option_text_punc = re.sub(r\"(MINUTES|Minutes|MIN|)[\\. ]*((?:Prior|PRIOR) (?:NOTICE|Notice|NOTIFICATION|Permission|PERMISSION))\", r\"\\1 \\2\", e_option_text_punc)\n",
    "    # 去掉数字后冗余的句号\n",
    "    e_option_text_punc = e_option_text_punc.replace(\"...\", \"呜呜呜\")\n",
    "    e_option_text_punc = e_option_text_punc.replace(\"..\", '.')\n",
    "    e_option_text_punc = e_option_text_punc.replace(\"呜呜呜\", \"...\")\n",
    "    # bad_cases\n",
    "    e_option_text_punc = e_option_text_punc.replace(\"IS PROHIBITED. FROM INTERSECTION Taxiway C1.\", \"IS PROHIBITED FROM INTERSECTION Taxiway C1.\")\n",
    "    e_option_text_punc = e_option_text_punc.replace(\"CLOSED. ALL TRAINING AND VFR FLIGHTS.\", \"CLOSED ALL TRAINING AND VFR FLIGHTS.\")\n",
    "    e_option_text_punc = e_option_text_punc.replace(\"Refer To METHOD OF WORKING. PLAN 001-22, STAGE 2B.\", \"Refer To METHOD OF WORKING PLAN 001-22, STAGE 2B.\")\n",
    "    return e_option_text_punc\n",
    "\n",
    "# 判断摘要\n",
    "def summarization_or_not(e_option_text_punc: str) -> bool:\n",
    "    return False\n",
    "\n",
    "# 摘要\n",
    "def summarization(text: str) -> str:\n",
    "    summarizer = pipeline(\"summarization\", model=\"sshleifer/distilbart-cnn-12-6\")\n",
    "    summary = summarizer(text, max_length=130, min_length=30, do_sample=False)\n",
    "    return summary[0][\"summary_text\"]\n",
    "\n",
    "# 分句\n",
    "def sentence_tokenize(text: str) -> List[str]:\n",
    "    sentences = []\n",
    "    temp = ''\n",
    "    # 加载punkt句子分割器\n",
    "    sen_tokenizer = nltk.data.load('tokenizers/punkt/english.pickle')\n",
    "    # 对句子进行分割\n",
    "    sentences_ori = sen_tokenizer.tokenize(text)\n",
    "    # 句子若仅含实体则与后一个句子合并\n",
    "    for sentence_ori in sentences_ori:\n",
    "        x = re.match(r\"^(?:Runway|RUNWAY|RWY|TWY)[:\\. ]?[0-9RL/]*\\.$\", sentence_ori)\n",
    "        if x is None:\n",
    "            sentences.append(temp + sentence_ori)\n",
    "            temp = ''\n",
    "        else:\n",
    "            temp = sentence_ori\n",
    "    return sentences\n",
    "\n",
    "# 编码\n",
    "def encode(sentence: str) -> str:\n",
    "    sentence_code = sentence\n",
    "    return sentence_code\n",
    "\n",
    "# 合并居中单元格并保存\n",
    "def to_merge(df, excel_name):\n",
    "    # 按照'E项'列进行每行单元格合并\n",
    "    # 'E项'列去重，确定一列需要合并成几个值\n",
    "    df_key = list(set(df['E项'].values))\n",
    "    wb = Workbook()\n",
    "    ws = wb.active\n",
    "    # 将每行数据写入ws中\n",
    "    for row in dataframe_to_rows(df, index=False, header=True):\n",
    "        ws.append(row)\n",
    "    # 遍历去重后E项\n",
    "    for i in df_key:\n",
    "        # 获取E项等于指定值的几行数据\n",
    "        df_id = df[df.E项 == i].index.tolist() # 索引值从0开始\n",
    "        # 遍历，需要合并7列，openyxl中，读excel等的序号都是从1开始，所以合并7列，需要遍历range(1, 8)\n",
    "        for j in range(1, 8):\n",
    "            ws.merge_cells(start_row=df_id[0] + 2, end_row=df_id[-1] + 2, start_column=j, end_column=j) # 序号从1开始，所以行序号需要加2\n",
    "\n",
    "    # save\n",
    "    wb.save(excel_name)\n",
    "    print('合并成功！')"
   ],
   "metadata": {
    "collapsed": false
   }
  },
  {
   "cell_type": "code",
   "execution_count": 2,
   "outputs": [
    {
     "data": {
      "text/plain": "          类型                                                 E项  \\\n0    跑道数据/限制  RWY 30 AVBL FOR TKOF AND LDG UNDER. FOLLOWING ...   \n1    跑道数据/限制      RWY 11/29 CLOSED ALL TRAINING AND VFR FLIGHTS   \n2    跑道数据/限制  RWY 10R/28L STRENGTH DECREASED - SOAKED . RWY ...   \n3    跑道数据/限制  RWY 13/31 NARROWED TO 22,5M WHEN WET. FOR . LD...   \n4    跑道数据/限制              RWY 13/31 USABLE FOR HELICOPTERS ONLY   \n..       ...                                                ...   \n144  跑道数据/限制  RWY 17/35 EASTERN EDGE INTERFACE WITH RWY STRI...   \n145  跑道数据/限制            RWY 06/24 LTD, BUMPS PRESENCE. EXER CTN   \n146  跑道数据/限制  RWY 17R/35L FULL STOP AND TOUCH AND GO NOT ALL...   \n147  跑道数据/限制  UNPAVED RWY 17R/35L AND ULM STRIP 17L/35R CLSD...   \n148  跑道数据/限制  PAVED RWY 13/31 CLOSED DUE TO WIP EXC FOR EMER...   \n\n                                                E项-人类语 cache  \n0    Runway 30 Available FOR Take-off AND Landing U...        \n1     Runway 11/29 CLOSED ALL TRAINING AND VFR FLIGHTS        \n2    Runway 10R/28L STRENGTH DECREASED - SOAKED . R...        \n3    Runway 13/31 NARROWED TO 22, 5M WHEN WET. FOR ...        \n4             Runway 13/31 USABLE FOR HELICOPTERS ONLY        \n..                                                 ...   ...  \n144  Runway 17/35 EASTERN EDGE INTERFACE WITH Runwa...        \n145  Runway 06/24 Limited, BUMPS PRESENCE. Exercise...        \n146  Runway 17R/35L FULL STOP AND TOUCH AND GO NOT ...        \n147  UNPAVED Runway 17R/35L AND ULM STRIP 17L/35R C...        \n148  PAVED Runway 13/31 CLOSED DUE TO Work In Progr...        \n\n[149 rows x 4 columns]",
      "text/html": "<div>\n<style scoped>\n    .dataframe tbody tr th:only-of-type {\n        vertical-align: middle;\n    }\n\n    .dataframe tbody tr th {\n        vertical-align: top;\n    }\n\n    .dataframe thead th {\n        text-align: right;\n    }\n</style>\n<table border=\"1\" class=\"dataframe\">\n  <thead>\n    <tr style=\"text-align: right;\">\n      <th></th>\n      <th>类型</th>\n      <th>E项</th>\n      <th>E项-人类语</th>\n      <th>cache</th>\n    </tr>\n  </thead>\n  <tbody>\n    <tr>\n      <th>0</th>\n      <td>跑道数据/限制</td>\n      <td>RWY 30 AVBL FOR TKOF AND LDG UNDER. FOLLOWING ...</td>\n      <td>Runway 30 Available FOR Take-off AND Landing U...</td>\n      <td></td>\n    </tr>\n    <tr>\n      <th>1</th>\n      <td>跑道数据/限制</td>\n      <td>RWY 11/29 CLOSED ALL TRAINING AND VFR FLIGHTS</td>\n      <td>Runway 11/29 CLOSED ALL TRAINING AND VFR FLIGHTS</td>\n      <td></td>\n    </tr>\n    <tr>\n      <th>2</th>\n      <td>跑道数据/限制</td>\n      <td>RWY 10R/28L STRENGTH DECREASED - SOAKED . RWY ...</td>\n      <td>Runway 10R/28L STRENGTH DECREASED - SOAKED . R...</td>\n      <td></td>\n    </tr>\n    <tr>\n      <th>3</th>\n      <td>跑道数据/限制</td>\n      <td>RWY 13/31 NARROWED TO 22,5M WHEN WET. FOR . LD...</td>\n      <td>Runway 13/31 NARROWED TO 22, 5M WHEN WET. FOR ...</td>\n      <td></td>\n    </tr>\n    <tr>\n      <th>4</th>\n      <td>跑道数据/限制</td>\n      <td>RWY 13/31 USABLE FOR HELICOPTERS ONLY</td>\n      <td>Runway 13/31 USABLE FOR HELICOPTERS ONLY</td>\n      <td></td>\n    </tr>\n    <tr>\n      <th>...</th>\n      <td>...</td>\n      <td>...</td>\n      <td>...</td>\n      <td>...</td>\n    </tr>\n    <tr>\n      <th>144</th>\n      <td>跑道数据/限制</td>\n      <td>RWY 17/35 EASTERN EDGE INTERFACE WITH RWY STRI...</td>\n      <td>Runway 17/35 EASTERN EDGE INTERFACE WITH Runwa...</td>\n      <td></td>\n    </tr>\n    <tr>\n      <th>145</th>\n      <td>跑道数据/限制</td>\n      <td>RWY 06/24 LTD, BUMPS PRESENCE. EXER CTN</td>\n      <td>Runway 06/24 Limited, BUMPS PRESENCE. Exercise...</td>\n      <td></td>\n    </tr>\n    <tr>\n      <th>146</th>\n      <td>跑道数据/限制</td>\n      <td>RWY 17R/35L FULL STOP AND TOUCH AND GO NOT ALL...</td>\n      <td>Runway 17R/35L FULL STOP AND TOUCH AND GO NOT ...</td>\n      <td></td>\n    </tr>\n    <tr>\n      <th>147</th>\n      <td>跑道数据/限制</td>\n      <td>UNPAVED RWY 17R/35L AND ULM STRIP 17L/35R CLSD...</td>\n      <td>UNPAVED Runway 17R/35L AND ULM STRIP 17L/35R C...</td>\n      <td></td>\n    </tr>\n    <tr>\n      <th>148</th>\n      <td>跑道数据/限制</td>\n      <td>PAVED RWY 13/31 CLOSED DUE TO WIP EXC FOR EMER...</td>\n      <td>PAVED Runway 13/31 CLOSED DUE TO Work In Progr...</td>\n      <td></td>\n    </tr>\n  </tbody>\n</table>\n<p>149 rows × 4 columns</p>\n</div>"
     },
     "execution_count": 2,
     "metadata": {},
     "output_type": "execute_result"
    }
   ],
   "source": [
    "# 读取excel数据\n",
    "NOTAM = pd.read_excel(\"data.xlsx\", sheet_name=\"相对简单\")\n",
    "for i, v in enumerate(NOTAM[\"E项\"]):\n",
    "    NOTAM[\"E项\"][i] = notam_parse_single(v)\n",
    "\n",
    "NOTAM[\"E项-人类语\"] = \"null\"\n",
    "\n",
    "for i, v in enumerate(NOTAM[\"E项\"]):\n",
    "    NOTAM[\"E项-人类语\"][i] = notam_decode(v)\n",
    "\n",
    "\n",
    "NOTAM"
   ],
   "metadata": {
    "collapsed": false
   }
  },
  {
   "cell_type": "code",
   "execution_count": 3,
   "outputs": [
    {
     "data": {
      "text/plain": "          类型                                                 E项  \\\n0    跑道数据/限制  RWY 30 AVBL FOR TKOF AND LDG UNDER. FOLLOWING ...   \n1    跑道数据/限制      RWY 11/29 CLOSED ALL TRAINING AND VFR FLIGHTS   \n2    跑道数据/限制  RWY 10R/28L STRENGTH DECREASED - SOAKED . RWY ...   \n3    跑道数据/限制  RWY 13/31 NARROWED TO 22,5M WHEN WET. FOR . LD...   \n4    跑道数据/限制              RWY 13/31 USABLE FOR HELICOPTERS ONLY   \n..       ...                                                ...   \n144  跑道数据/限制  RWY 17/35 EASTERN EDGE INTERFACE WITH RWY STRI...   \n145  跑道数据/限制            RWY 06/24 LTD, BUMPS PRESENCE. EXER CTN   \n146  跑道数据/限制  RWY 17R/35L FULL STOP AND TOUCH AND GO NOT ALL...   \n147  跑道数据/限制  UNPAVED RWY 17R/35L AND ULM STRIP 17L/35R CLSD...   \n148  跑道数据/限制  PAVED RWY 13/31 CLOSED DUE TO WIP EXC FOR EMER...   \n\n                                                E项-人类语  \\\n0    Runway 30 Available FOR Take-off AND Landing U...   \n1     Runway 11/29 CLOSED ALL TRAINING AND VFR FLIGHTS   \n2    Runway 10R/28L STRENGTH DECREASED - SOAKED . R...   \n3    Runway 13/31 NARROWED TO 22, 5M WHEN WET. FOR ...   \n4             Runway 13/31 USABLE FOR HELICOPTERS ONLY   \n..                                                 ...   \n144  Runway 17/35 EASTERN EDGE INTERFACE WITH Runwa...   \n145  Runway 06/24 Limited, BUMPS PRESENCE. Exercise...   \n146  Runway 17R/35L FULL STOP AND TOUCH AND GO NOT ...   \n147  UNPAVED Runway 17R/35L AND ULM STRIP 17L/35R C...   \n148  PAVED Runway 13/31 CLOSED DUE TO Work In Progr...   \n\n                                          E项-人类语标点符号预测  \\\n0    Runway 30 Available FOR Take-off AND Landing U...   \n1    Runway 11/29 CLOSED ALL TRAINING AND VFR FLIGHTS.   \n2    Runway 10R/28L STRENGTH DECREASED - SOAKED Run...   \n3    Runway 13/31 NARROWED TO 22, 5M WHEN WET FOR L...   \n4            Runway 13/31 USABLE FOR HELICOPTERS ONLY.   \n..                                                 ...   \n144  Runway 17/35 EASTERN EDGE INTERFACE WITH Runwa...   \n145  Runway 06/24: Limited BUMPS PRESENCE: Exercise...   \n146  Runway 17R/35L FULL STOP AND TOUCH AND GO, NOT...   \n147  UNPAVED Runway 17R/35L AND ULM STRIP 17L/35R C...   \n148  PAVED Runway 13/31 CLOSED DUE TO Work In Progr...   \n\n                                              E项-人类语分句  \n0    ['Runway 30 Available FOR Take-off AND Landing...  \n1    ['Runway 11/29 CLOSED ALL TRAINING AND VFR FLI...  \n2    ['Runway 10R/28L STRENGTH DECREASED - SOAKED R...  \n3    ['Runway 13/31 NARROWED TO 22, 5M WHEN WET FOR...  \n4        ['Runway 13/31 USABLE FOR HELICOPTERS ONLY.']  \n..                                                 ...  \n144  ['Runway 17/35 EASTERN EDGE INTERFACE WITH Run...  \n145  ['Runway 06/24: Limited BUMPS PRESENCE: Exerci...  \n146  ['Runway 17R/35L FULL STOP AND TOUCH AND GO, N...  \n147  ['UNPAVED Runway 17R/35L AND ULM STRIP 17L/35R...  \n148  ['PAVED Runway 13/31 CLOSED DUE TO Work In Pro...  \n\n[149 rows x 5 columns]",
      "text/html": "<div>\n<style scoped>\n    .dataframe tbody tr th:only-of-type {\n        vertical-align: middle;\n    }\n\n    .dataframe tbody tr th {\n        vertical-align: top;\n    }\n\n    .dataframe thead th {\n        text-align: right;\n    }\n</style>\n<table border=\"1\" class=\"dataframe\">\n  <thead>\n    <tr style=\"text-align: right;\">\n      <th></th>\n      <th>类型</th>\n      <th>E项</th>\n      <th>E项-人类语</th>\n      <th>E项-人类语标点符号预测</th>\n      <th>E项-人类语分句</th>\n    </tr>\n  </thead>\n  <tbody>\n    <tr>\n      <th>0</th>\n      <td>跑道数据/限制</td>\n      <td>RWY 30 AVBL FOR TKOF AND LDG UNDER. FOLLOWING ...</td>\n      <td>Runway 30 Available FOR Take-off AND Landing U...</td>\n      <td>Runway 30 Available FOR Take-off AND Landing U...</td>\n      <td>['Runway 30 Available FOR Take-off AND Landing...</td>\n    </tr>\n    <tr>\n      <th>1</th>\n      <td>跑道数据/限制</td>\n      <td>RWY 11/29 CLOSED ALL TRAINING AND VFR FLIGHTS</td>\n      <td>Runway 11/29 CLOSED ALL TRAINING AND VFR FLIGHTS</td>\n      <td>Runway 11/29 CLOSED ALL TRAINING AND VFR FLIGHTS.</td>\n      <td>['Runway 11/29 CLOSED ALL TRAINING AND VFR FLI...</td>\n    </tr>\n    <tr>\n      <th>2</th>\n      <td>跑道数据/限制</td>\n      <td>RWY 10R/28L STRENGTH DECREASED - SOAKED . RWY ...</td>\n      <td>Runway 10R/28L STRENGTH DECREASED - SOAKED . R...</td>\n      <td>Runway 10R/28L STRENGTH DECREASED - SOAKED Run...</td>\n      <td>['Runway 10R/28L STRENGTH DECREASED - SOAKED R...</td>\n    </tr>\n    <tr>\n      <th>3</th>\n      <td>跑道数据/限制</td>\n      <td>RWY 13/31 NARROWED TO 22,5M WHEN WET. FOR . LD...</td>\n      <td>Runway 13/31 NARROWED TO 22, 5M WHEN WET. FOR ...</td>\n      <td>Runway 13/31 NARROWED TO 22, 5M WHEN WET FOR L...</td>\n      <td>['Runway 13/31 NARROWED TO 22, 5M WHEN WET FOR...</td>\n    </tr>\n    <tr>\n      <th>4</th>\n      <td>跑道数据/限制</td>\n      <td>RWY 13/31 USABLE FOR HELICOPTERS ONLY</td>\n      <td>Runway 13/31 USABLE FOR HELICOPTERS ONLY</td>\n      <td>Runway 13/31 USABLE FOR HELICOPTERS ONLY.</td>\n      <td>['Runway 13/31 USABLE FOR HELICOPTERS ONLY.']</td>\n    </tr>\n    <tr>\n      <th>...</th>\n      <td>...</td>\n      <td>...</td>\n      <td>...</td>\n      <td>...</td>\n      <td>...</td>\n    </tr>\n    <tr>\n      <th>144</th>\n      <td>跑道数据/限制</td>\n      <td>RWY 17/35 EASTERN EDGE INTERFACE WITH RWY STRI...</td>\n      <td>Runway 17/35 EASTERN EDGE INTERFACE WITH Runwa...</td>\n      <td>Runway 17/35 EASTERN EDGE INTERFACE WITH Runwa...</td>\n      <td>['Runway 17/35 EASTERN EDGE INTERFACE WITH Run...</td>\n    </tr>\n    <tr>\n      <th>145</th>\n      <td>跑道数据/限制</td>\n      <td>RWY 06/24 LTD, BUMPS PRESENCE. EXER CTN</td>\n      <td>Runway 06/24 Limited, BUMPS PRESENCE. Exercise...</td>\n      <td>Runway 06/24: Limited BUMPS PRESENCE: Exercise...</td>\n      <td>['Runway 06/24: Limited BUMPS PRESENCE: Exerci...</td>\n    </tr>\n    <tr>\n      <th>146</th>\n      <td>跑道数据/限制</td>\n      <td>RWY 17R/35L FULL STOP AND TOUCH AND GO NOT ALL...</td>\n      <td>Runway 17R/35L FULL STOP AND TOUCH AND GO NOT ...</td>\n      <td>Runway 17R/35L FULL STOP AND TOUCH AND GO, NOT...</td>\n      <td>['Runway 17R/35L FULL STOP AND TOUCH AND GO, N...</td>\n    </tr>\n    <tr>\n      <th>147</th>\n      <td>跑道数据/限制</td>\n      <td>UNPAVED RWY 17R/35L AND ULM STRIP 17L/35R CLSD...</td>\n      <td>UNPAVED Runway 17R/35L AND ULM STRIP 17L/35R C...</td>\n      <td>UNPAVED Runway 17R/35L AND ULM STRIP 17L/35R C...</td>\n      <td>['UNPAVED Runway 17R/35L AND ULM STRIP 17L/35R...</td>\n    </tr>\n    <tr>\n      <th>148</th>\n      <td>跑道数据/限制</td>\n      <td>PAVED RWY 13/31 CLOSED DUE TO WIP EXC FOR EMER...</td>\n      <td>PAVED Runway 13/31 CLOSED DUE TO Work In Progr...</td>\n      <td>PAVED Runway 13/31 CLOSED DUE TO Work In Progr...</td>\n      <td>['PAVED Runway 13/31 CLOSED DUE TO Work In Pro...</td>\n    </tr>\n  </tbody>\n</table>\n<p>149 rows × 5 columns</p>\n</div>"
     },
     "execution_count": 3,
     "metadata": {},
     "output_type": "execute_result"
    }
   ],
   "source": [
    "# 中间结果\n",
    "\n",
    "NOTAM[\"E项-人类语标点符号预测\"] = ''\n",
    "NOTAM[\"E项-人类语分句\"] = ''\n",
    "NOTAM[\"是否使用分句及原因\"] = ''\n",
    "\n",
    "for i, v in enumerate(NOTAM[\"E项\"]):\n",
    "    if chinese_or_not(v):\n",
    "        NOTAM[\"E项-人类语标点符号预测\"][i] = v\n",
    "        NOTAM[\"E项-人类语分句\"][i] =v\n",
    "    else:\n",
    "        v = NOTAM[\"E项-人类语\"][i]\n",
    "        v_punct = punctuation(v)\n",
    "        NOTAM[\"E项-人类语标点符号预测\"][i] = v_punct\n",
    "        sentences = sentence_tokenize(v_punct)\n",
    "        NOTAM[\"E项-人类语分句\"][i] = str(sentences)\n",
    "\n",
    "NOTAM.to_excel(\"中间结果-简单.xlsx\",index=False)\n",
    "\n",
    "\n",
    "NOTAM"
   ],
   "metadata": {
    "collapsed": false
   }
  },
  {
   "cell_type": "code",
   "execution_count": 6,
   "outputs": [
    {
     "name": "stderr",
     "output_type": "stream",
     "text": [
      "Building prefix dict from the default dictionary ...\n",
      "Dumping model to file cache /tmp/jieba.cache\n",
      "Loading model cost 1.457 seconds.\n",
      "Prefix dict has been built successfully.\n"
     ]
    },
    {
     "name": "stdout",
     "output_type": "stream",
     "text": [
      "合并成功！\n"
     ]
    },
    {
     "data": {
      "text/plain": "          类型                                                 E项  \\\n0    跑道数据/限制  RWY 30 AVBL FOR TKOF AND LDG UNDER.  FOLLOWING...   \n1    跑道数据/限制      RWY 11/29 CLOSED ALL TRAINING AND VFR FLIGHTS   \n2    跑道数据/限制  RWY 10R/28L STRENGTH DECREASED - SOAKED . RWY....   \n3    跑道数据/限制  RWY 13/31 NARROWED TO 22,5M WHEN WET. FOR . LD...   \n4    跑道数据/限制              RWY 13/31 USABLE FOR HELICOPTERS ONLY   \n..       ...                                                ...   \n144  跑道数据/限制  RWY 17/35 EASTERN EDGE INTERFACE WITH RWY STRI...   \n145  跑道数据/限制            RWY 06/24 LTD, BUMPS PRESENCE. EXER CTN   \n146  跑道数据/限制  RWY 17R/35L FULL STOP AND TOUCH AND GO NOT ALL...   \n147  跑道数据/限制  UNPAVED RWY 17R/35L AND ULM STRIP 17L/35R CLSD...   \n148  跑道数据/限制  PAVED RWY 13/31 CLOSED DUE TO WIP EXC FOR EMER...   \n\n                                                E项-人类语  \\\n0    Runway 30 Available FOR Take-off AND Landing U...   \n1     Runway 11/29 CLOSED ALL TRAINING AND VFR FLIGHTS   \n2    Runway 10R/28L STRENGTH DECREASED - SOAKED . R...   \n3    Runway 13/31 NARROWED TO 22,5M WHEN WET. FOR ....   \n4             Runway 13/31 USABLE FOR HELICOPTERS ONLY   \n..                                                 ...   \n144  Runway 17/35 EASTERN EDGE INTERFACE WITH Runwa...   \n145  Runway 06/24 Limited, BUMPS PRESENCE. Exercise...   \n146  Runway 17R/35L FULL STOP AND TOUCH AND GO NOT ...   \n147  UNPAVED Runway 17R/35L AND ULM STRIP 17L/35R C...   \n148  PAVED Runway 13/31 CLOSED DUE TO Work In Progr...   \n\n                                                  分句结果                  限制  \\\n0    ['Runway 30 Available FOR Take-off AND Landing...                       \n1    ['Runway 11/29 CLOSED.', 'ALL TRAINING AND VFR...                       \n2    ['Runway 10R/28L STRENGTH DECREASED - SOAKED R...                       \n3    ['Runway 13/31 NARROWED TO 22,5M WHEN WET FOR ...                       \n4        ['Runway 13/31 USABLE FOR HELICOPTERS ONLY.']                       \n..                                                 ...                 ...   \n144  ['Runway 17/35 EASTERN EDGE INTERFACE WITH Run...                       \n145  ['Runway 06/24: Limited BUMPS PRESENCE: Exerci...                       \n146  ['Runway 17R/35L FULL STOP AND TOUCH AND GO, N...                       \n147  ['UNPAVED Runway 17R/35L AND ULM STRIP 17L/35R...                       \n148  ['PAVED Runway 13/31 CLOSED DUE TO Work In Pro...  EMERGENCY FLIGHTS.   \n\n    限制_翼展 限制_重量                                         实体           动作  \\\n0                                                  rwy 30     available   \n1                                               rwy 11/29        closed   \n2                                                                  None   \n3                                               rwy 13/31   narrowed to   \n4                                                rwy 13/31       usable   \n..    ...   ...                                        ...          ...   \n144                                                                None   \n145                                                                None   \n146                                                                None   \n147              npaved rwy 17r/35l and ulm strip 17l/35r        closed   \n148                                       paved rwy 13/31        closed   \n\n                                                   动作后                     原因  \\\n0     for take-off and ldg under following conditio...                          \n1                                                                               \n2                                                 None                   None   \n3     22,5m when wet for landing/take-off use south...                          \n4                                 for helicopters only                          \n..                                                 ...                    ...   \n144                                               None                   None   \n145                                               None                   None   \n146                                               None                   None   \n147                                                             due work inpr   \n148                                                     due work in progress,   \n\n                 跑道实体  \n0              rwy 30  \n1           rwy 11/29  \n2                None  \n3    rwy 13/31', 'rwy  \n4           rwy 13/31  \n..                ...  \n144              None  \n145              None  \n146              None  \n147       rwy 17r/35l  \n148         rwy 13/31  \n\n[185 rows x 12 columns]",
      "text/html": "<div>\n<style scoped>\n    .dataframe tbody tr th:only-of-type {\n        vertical-align: middle;\n    }\n\n    .dataframe tbody tr th {\n        vertical-align: top;\n    }\n\n    .dataframe thead th {\n        text-align: right;\n    }\n</style>\n<table border=\"1\" class=\"dataframe\">\n  <thead>\n    <tr style=\"text-align: right;\">\n      <th></th>\n      <th>类型</th>\n      <th>E项</th>\n      <th>E项-人类语</th>\n      <th>分句结果</th>\n      <th>限制</th>\n      <th>限制_翼展</th>\n      <th>限制_重量</th>\n      <th>实体</th>\n      <th>动作</th>\n      <th>动作后</th>\n      <th>原因</th>\n      <th>跑道实体</th>\n    </tr>\n  </thead>\n  <tbody>\n    <tr>\n      <th>0</th>\n      <td>跑道数据/限制</td>\n      <td>RWY 30 AVBL FOR TKOF AND LDG UNDER.  FOLLOWING...</td>\n      <td>Runway 30 Available FOR Take-off AND Landing U...</td>\n      <td>['Runway 30 Available FOR Take-off AND Landing...</td>\n      <td></td>\n      <td></td>\n      <td></td>\n      <td>rwy 30</td>\n      <td>available</td>\n      <td>for take-off and ldg under following conditio...</td>\n      <td></td>\n      <td>rwy 30</td>\n    </tr>\n    <tr>\n      <th>1</th>\n      <td>跑道数据/限制</td>\n      <td>RWY 11/29 CLOSED ALL TRAINING AND VFR FLIGHTS</td>\n      <td>Runway 11/29 CLOSED ALL TRAINING AND VFR FLIGHTS</td>\n      <td>['Runway 11/29 CLOSED.', 'ALL TRAINING AND VFR...</td>\n      <td></td>\n      <td></td>\n      <td></td>\n      <td>rwy 11/29</td>\n      <td>closed</td>\n      <td></td>\n      <td></td>\n      <td>rwy 11/29</td>\n    </tr>\n    <tr>\n      <th>2</th>\n      <td>跑道数据/限制</td>\n      <td>RWY 10R/28L STRENGTH DECREASED - SOAKED . RWY....</td>\n      <td>Runway 10R/28L STRENGTH DECREASED - SOAKED . R...</td>\n      <td>['Runway 10R/28L STRENGTH DECREASED - SOAKED R...</td>\n      <td></td>\n      <td></td>\n      <td></td>\n      <td></td>\n      <td>None</td>\n      <td>None</td>\n      <td>None</td>\n      <td>None</td>\n    </tr>\n    <tr>\n      <th>3</th>\n      <td>跑道数据/限制</td>\n      <td>RWY 13/31 NARROWED TO 22,5M WHEN WET. FOR . LD...</td>\n      <td>Runway 13/31 NARROWED TO 22,5M WHEN WET. FOR ....</td>\n      <td>['Runway 13/31 NARROWED TO 22,5M WHEN WET FOR ...</td>\n      <td></td>\n      <td></td>\n      <td></td>\n      <td>rwy 13/31</td>\n      <td>narrowed to</td>\n      <td>22,5m when wet for landing/take-off use south...</td>\n      <td></td>\n      <td>rwy 13/31', 'rwy</td>\n    </tr>\n    <tr>\n      <th>4</th>\n      <td>跑道数据/限制</td>\n      <td>RWY 13/31 USABLE FOR HELICOPTERS ONLY</td>\n      <td>Runway 13/31 USABLE FOR HELICOPTERS ONLY</td>\n      <td>['Runway 13/31 USABLE FOR HELICOPTERS ONLY.']</td>\n      <td></td>\n      <td></td>\n      <td></td>\n      <td>rwy 13/31</td>\n      <td>usable</td>\n      <td>for helicopters only</td>\n      <td></td>\n      <td>rwy 13/31</td>\n    </tr>\n    <tr>\n      <th>...</th>\n      <td>...</td>\n      <td>...</td>\n      <td>...</td>\n      <td>...</td>\n      <td>...</td>\n      <td>...</td>\n      <td>...</td>\n      <td>...</td>\n      <td>...</td>\n      <td>...</td>\n      <td>...</td>\n      <td>...</td>\n    </tr>\n    <tr>\n      <th>144</th>\n      <td>跑道数据/限制</td>\n      <td>RWY 17/35 EASTERN EDGE INTERFACE WITH RWY STRI...</td>\n      <td>Runway 17/35 EASTERN EDGE INTERFACE WITH Runwa...</td>\n      <td>['Runway 17/35 EASTERN EDGE INTERFACE WITH Run...</td>\n      <td></td>\n      <td></td>\n      <td></td>\n      <td></td>\n      <td>None</td>\n      <td>None</td>\n      <td>None</td>\n      <td>None</td>\n    </tr>\n    <tr>\n      <th>145</th>\n      <td>跑道数据/限制</td>\n      <td>RWY 06/24 LTD, BUMPS PRESENCE. EXER CTN</td>\n      <td>Runway 06/24 Limited, BUMPS PRESENCE. Exercise...</td>\n      <td>['Runway 06/24: Limited BUMPS PRESENCE: Exerci...</td>\n      <td></td>\n      <td></td>\n      <td></td>\n      <td></td>\n      <td>None</td>\n      <td>None</td>\n      <td>None</td>\n      <td>None</td>\n    </tr>\n    <tr>\n      <th>146</th>\n      <td>跑道数据/限制</td>\n      <td>RWY 17R/35L FULL STOP AND TOUCH AND GO NOT ALL...</td>\n      <td>Runway 17R/35L FULL STOP AND TOUCH AND GO NOT ...</td>\n      <td>['Runway 17R/35L FULL STOP AND TOUCH AND GO, N...</td>\n      <td></td>\n      <td></td>\n      <td></td>\n      <td></td>\n      <td>None</td>\n      <td>None</td>\n      <td>None</td>\n      <td>None</td>\n    </tr>\n    <tr>\n      <th>147</th>\n      <td>跑道数据/限制</td>\n      <td>UNPAVED RWY 17R/35L AND ULM STRIP 17L/35R CLSD...</td>\n      <td>UNPAVED Runway 17R/35L AND ULM STRIP 17L/35R C...</td>\n      <td>['UNPAVED Runway 17R/35L AND ULM STRIP 17L/35R...</td>\n      <td></td>\n      <td></td>\n      <td></td>\n      <td>npaved rwy 17r/35l and ulm strip 17l/35r</td>\n      <td>closed</td>\n      <td></td>\n      <td>due work inpr</td>\n      <td>rwy 17r/35l</td>\n    </tr>\n    <tr>\n      <th>148</th>\n      <td>跑道数据/限制</td>\n      <td>PAVED RWY 13/31 CLOSED DUE TO WIP EXC FOR EMER...</td>\n      <td>PAVED Runway 13/31 CLOSED DUE TO Work In Progr...</td>\n      <td>['PAVED Runway 13/31 CLOSED DUE TO Work In Pro...</td>\n      <td>EMERGENCY FLIGHTS.</td>\n      <td></td>\n      <td></td>\n      <td>paved rwy 13/31</td>\n      <td>closed</td>\n      <td></td>\n      <td>due work in progress,</td>\n      <td>rwy 13/31</td>\n    </tr>\n  </tbody>\n</table>\n<p>185 rows × 12 columns</p>\n</div>"
     },
     "execution_count": 6,
     "metadata": {},
     "output_type": "execute_result"
    }
   ],
   "source": [
    "# 最终汇总\n",
    "\n",
    "NOTAM[\"cache\"] = ''\n",
    "\n",
    "for i, v in enumerate(NOTAM[\"E项\"]):\n",
    "    if chinese_or_not(v):\n",
    "        svo_all = chinese_svo(v)\n",
    "    elif bad_case_or_not(v):\n",
    "        svo_all = bad_case_svo(v)\n",
    "    else:\n",
    "        svo_all = []\n",
    "        v = NOTAM[\"E项-人类语\"][i]\n",
    "        sentences = sentence_tokenize(punctuation(v))\n",
    "        # 遍历一个E项所有待解析单句\n",
    "        for k in sentences:\n",
    "            # 把所有解析出来的结果汇总\n",
    "            if sentence_parse(k)[0]:\n",
    "                for m in sentence_parse(k)[1]:\n",
    "                    svo_all.append(m)\n",
    "\n",
    "    # svo_all 加到对应表格\n",
    "    cache = \"\"\n",
    "    for n in svo_all:\n",
    "        # resul是一个解析结果（用in间隔）\n",
    "        result_single = n[0] + \"/in/\" + n[1] + \"/in/\" + n[2] + \"/in/\"+ n[3] + \"/in/\" + n[4] + \"/in/\" + n[5] + \"/in/\" + n[6]\n",
    "        cache += \"/out/\"\n",
    "        cache += result_single\n",
    "        cache = cache.lstrip(\"/out/\")\n",
    "    NOTAM[\"cache\"][i] = cache\n",
    "\n",
    "    # debug\n",
    "    # print(\"第{}个E项解析出来的: \".format(i+1), svo_all)\n",
    "    # if i == 11:\n",
    "    #     break\n",
    "\n",
    "# 拆分多个行\n",
    "NOTAM[\"cache\"] = NOTAM[\"cache\"].str.split(\"/out/\")\n",
    "NOTAM = NOTAM.explode(\"cache\")\n",
    "\n",
    "# 拆分多个列\n",
    "NOTAM_cache =NOTAM[\"cache\"].str.split('/in/', expand=True)\n",
    "NOTAM = NOTAM[~NOTAM.index.duplicated(keep=\"first\")].drop([\"cache\"],axis=1).join(NOTAM_cache, how=\"right\")\n",
    "\n",
    "# rename\n",
    "NOTAM.columns = ['类型', 'E项', 'E项-人类语', \"E项-人类语标点符号预测\", \"E项-人类语分句\", \"是否使用分句及原因\", '实体', '动作', \"原因\", \"限制\", \"限制_翼展\", \"限制_重量\", \"来源\"]\n",
    "\n",
    "# 合并居中单元格并保存\n",
    "excel_name = \"相对简单.xlsx\"\n",
    "NOTAM.to_excel(excel_name, index=False)\n",
    "to_merge(pd.read_excel(excel_name), excel_name)\n",
    "\n",
    "\n",
    "NOTAM"
   ],
   "metadata": {
    "collapsed": false
   }
  }
 ],
 "metadata": {
  "kernelspec": {
   "display_name": "Python 3",
   "language": "python",
   "name": "python3"
  },
  "language_info": {
   "codemirror_mode": {
    "name": "ipython",
    "version": 2
   },
   "file_extension": ".py",
   "mimetype": "text/x-python",
   "name": "python",
   "nbconvert_exporter": "python",
   "pygments_lexer": "ipython2",
   "version": "2.7.6"
  }
 },
 "nbformat": 4,
 "nbformat_minor": 0
}
